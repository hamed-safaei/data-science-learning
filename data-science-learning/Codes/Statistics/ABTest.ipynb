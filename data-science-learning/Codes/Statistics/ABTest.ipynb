{
 "cells": [
  {
   "cell_type": "code",
   "execution_count": 3,
   "metadata": {},
   "outputs": [],
   "source": [
    "import numpy as np\n",
    "import pandas as pd\n",
    "import seaborn as sns"
   ]
  },
  {
   "cell_type": "code",
   "execution_count": 4,
   "metadata": {},
   "outputs": [],
   "source": [
    "a = np.array([23, 21, 19, 24, 35, 17, 18, 24, 33, 27, 21, 23])\n",
    "b = np.array([31, 28, 19, 24, 32, 27, 16, 41, 23, 32, 29, 33])"
   ]
  },
  {
   "cell_type": "code",
   "execution_count": 5,
   "metadata": {},
   "outputs": [
    {
     "data": {
      "text/plain": [
       "np.float64(23.75)"
      ]
     },
     "execution_count": 5,
     "metadata": {},
     "output_type": "execute_result"
    }
   ],
   "source": [
    "a.mean()"
   ]
  },
  {
   "cell_type": "code",
   "execution_count": 6,
   "metadata": {},
   "outputs": [
    {
     "data": {
      "text/plain": [
       "np.float64(27.916666666666668)"
      ]
     },
     "execution_count": 6,
     "metadata": {},
     "output_type": "execute_result"
    }
   ],
   "source": [
    "b.mean()"
   ]
  },
  {
   "cell_type": "code",
   "execution_count": 7,
   "metadata": {},
   "outputs": [
    {
     "data": {
      "text/plain": [
       "np.float64(4.166666666666668)"
      ]
     },
     "execution_count": 7,
     "metadata": {},
     "output_type": "execute_result"
    }
   ],
   "source": [
    "d = b.mean() - a.mean()\n",
    "d"
   ]
  },
  {
   "cell_type": "code",
   "execution_count": 8,
   "metadata": {},
   "outputs": [
    {
     "data": {
      "text/plain": [
       "array([1., 1., 1., 1., 1., 1., 1., 1., 1., 1., 1., 1.])"
      ]
     },
     "execution_count": 8,
     "metadata": {},
     "output_type": "execute_result"
    }
   ],
   "source": [
    "np.ones(len(b))"
   ]
  },
  {
   "cell_type": "code",
   "execution_count": 9,
   "metadata": {},
   "outputs": [
    {
     "data": {
      "text/plain": [
       "array([0., 0., 0., 0., 0., 0., 0., 0., 0., 0., 0., 0., 1., 1., 1., 1., 1.,\n",
       "       1., 1., 1., 1., 1., 1., 1.])"
      ]
     },
     "execution_count": 9,
     "metadata": {},
     "output_type": "execute_result"
    }
   ],
   "source": [
    "np.append(np.zeros(len(a)), np.ones(len(b)))"
   ]
  },
  {
   "cell_type": "code",
   "execution_count": 10,
   "metadata": {},
   "outputs": [],
   "source": [
    "sales = np.array([\n",
    "    np.append(np.zeros(len(a)), np.ones(len(b))),\n",
    "    np.append(a, b)\n",
    "])"
   ]
  },
  {
   "cell_type": "code",
   "execution_count": 11,
   "metadata": {},
   "outputs": [
    {
     "name": "stdout",
     "output_type": "stream",
     "text": [
      "[[ 0.  0.  0.  0.  0.  0.  0.  0.  0.  0.  0.  0.  1.  1.  1.  1.  1.  1.\n",
      "   1.  1.  1.  1.  1.  1.]\n",
      " [23. 21. 19. 24. 35. 17. 18. 24. 33. 27. 21. 23. 31. 28. 19. 24. 32. 27.\n",
      "  16. 41. 23. 32. 29. 33.]]\n"
     ]
    }
   ],
   "source": [
    "print(sales)"
   ]
  },
  {
   "cell_type": "code",
   "execution_count": 12,
   "metadata": {},
   "outputs": [
    {
     "data": {
      "text/plain": [
       "array([[ 0., 23.],\n",
       "       [ 0., 21.],\n",
       "       [ 0., 19.],\n",
       "       [ 0., 24.],\n",
       "       [ 0., 35.],\n",
       "       [ 0., 17.],\n",
       "       [ 0., 18.],\n",
       "       [ 0., 24.],\n",
       "       [ 0., 33.],\n",
       "       [ 0., 27.],\n",
       "       [ 0., 21.],\n",
       "       [ 0., 23.],\n",
       "       [ 1., 31.],\n",
       "       [ 1., 28.],\n",
       "       [ 1., 19.],\n",
       "       [ 1., 24.],\n",
       "       [ 1., 32.],\n",
       "       [ 1., 27.],\n",
       "       [ 1., 16.],\n",
       "       [ 1., 41.],\n",
       "       [ 1., 23.],\n",
       "       [ 1., 32.],\n",
       "       [ 1., 29.],\n",
       "       [ 1., 33.]])"
      ]
     },
     "execution_count": 12,
     "metadata": {},
     "output_type": "execute_result"
    }
   ],
   "source": [
    "sales_t = sales.T\n",
    "sales_t"
   ]
  },
  {
   "cell_type": "code",
   "execution_count": 13,
   "metadata": {},
   "outputs": [],
   "source": [
    "np.random.shuffle(sales_t) #بر زدن"
   ]
  },
  {
   "cell_type": "code",
   "execution_count": 14,
   "metadata": {},
   "outputs": [
    {
     "data": {
      "text/plain": [
       "array([[ 0., 17.],\n",
       "       [ 1., 27.],\n",
       "       [ 1., 41.],\n",
       "       [ 1., 23.],\n",
       "       [ 0., 19.],\n",
       "       [ 1., 31.],\n",
       "       [ 0., 24.],\n",
       "       [ 1., 28.],\n",
       "       [ 0., 27.],\n",
       "       [ 1., 19.],\n",
       "       [ 1., 33.],\n",
       "       [ 1., 32.],\n",
       "       [ 1., 24.],\n",
       "       [ 0., 23.],\n",
       "       [ 1., 29.],\n",
       "       [ 0., 35.],\n",
       "       [ 0., 24.],\n",
       "       [ 1., 32.],\n",
       "       [ 0., 21.],\n",
       "       [ 0., 21.],\n",
       "       [ 0., 18.],\n",
       "       [ 1., 16.],\n",
       "       [ 0., 33.],\n",
       "       [ 0., 23.]])"
      ]
     },
     "execution_count": 14,
     "metadata": {},
     "output_type": "execute_result"
    }
   ],
   "source": [
    "sales_t"
   ]
  },
  {
   "cell_type": "code",
   "execution_count": 15,
   "metadata": {},
   "outputs": [
    {
     "data": {
      "text/plain": [
       "array([1, 0, 0, 0, 0, 0, 1, 0, 0, 1, 1, 0, 0, 1, 0, 0, 0, 1, 1, 0, 1, 1,\n",
       "       1, 1], dtype=int32)"
      ]
     },
     "execution_count": 15,
     "metadata": {},
     "output_type": "execute_result"
    }
   ],
   "source": [
    "experiment_label = np.random.randint(0, 2, len(sales_t))\n",
    "experiment_label #تولید صفر  یک رندوم"
   ]
  },
  {
   "cell_type": "code",
   "execution_count": 16,
   "metadata": {},
   "outputs": [
    {
     "name": "stdout",
     "output_type": "stream",
     "text": [
      "[[ 1.  0.  0.  0.  0.  0.  1.  0.  0.  1.  1.  0.  0.  1.  0.  0.  0.  1.\n",
      "   1.  0.  1.  1.  1.  1.]\n",
      " [17. 27. 41. 23. 19. 31. 24. 28. 27. 19. 33. 32. 24. 23. 29. 35. 24. 32.\n",
      "  21. 21. 18. 16. 33. 23.]]\n"
     ]
    }
   ],
   "source": [
    "experiment_data = np.array([\n",
    "    experiment_label,\n",
    "    sales_t[:, 1]\n",
    "])\n",
    "print(experiment_data)"
   ]
  },
  {
   "cell_type": "code",
   "execution_count": 17,
   "metadata": {},
   "outputs": [
    {
     "data": {
      "text/plain": [
       "array([[ 1., 17.],\n",
       "       [ 0., 27.],\n",
       "       [ 0., 41.],\n",
       "       [ 0., 23.],\n",
       "       [ 0., 19.],\n",
       "       [ 0., 31.],\n",
       "       [ 1., 24.],\n",
       "       [ 0., 28.],\n",
       "       [ 0., 27.],\n",
       "       [ 1., 19.],\n",
       "       [ 1., 33.],\n",
       "       [ 0., 32.],\n",
       "       [ 0., 24.],\n",
       "       [ 1., 23.],\n",
       "       [ 0., 29.],\n",
       "       [ 0., 35.],\n",
       "       [ 0., 24.],\n",
       "       [ 1., 32.],\n",
       "       [ 1., 21.],\n",
       "       [ 0., 21.],\n",
       "       [ 1., 18.],\n",
       "       [ 1., 16.],\n",
       "       [ 1., 33.],\n",
       "       [ 1., 23.]])"
      ]
     },
     "execution_count": 17,
     "metadata": {},
     "output_type": "execute_result"
    }
   ],
   "source": [
    "experiment_data_t = experiment_data.T\n",
    "experiment_data_t"
   ]
  },
  {
   "cell_type": "code",
   "execution_count": 18,
   "metadata": {},
   "outputs": [
    {
     "data": {
      "text/plain": [
       "array([17., 24., 19., 33., 23., 32., 21., 18., 16., 33., 23.])"
      ]
     },
     "execution_count": 18,
     "metadata": {},
     "output_type": "execute_result"
    }
   ],
   "source": [
    "experiment_data_t[experiment_data_t[:, 0] == 1][:, 1]"
   ]
  },
  {
   "cell_type": "code",
   "execution_count": 19,
   "metadata": {},
   "outputs": [
    {
     "data": {
      "text/plain": [
       "np.float64(27.76923076923077)"
      ]
     },
     "execution_count": 19,
     "metadata": {},
     "output_type": "execute_result"
    }
   ],
   "source": [
    "experiment_data_t[experiment_data_t[:, 0] == 0][:, 1].mean()"
   ]
  },
  {
   "cell_type": "code",
   "execution_count": 20,
   "metadata": {},
   "outputs": [
    {
     "data": {
      "text/plain": [
       "np.float64(23.545454545454547)"
      ]
     },
     "execution_count": 20,
     "metadata": {},
     "output_type": "execute_result"
    }
   ],
   "source": [
    "experiment_data_t[experiment_data_t[:, 0] == 1][:, 1].mean()"
   ]
  },
  {
   "cell_type": "code",
   "execution_count": 21,
   "metadata": {},
   "outputs": [
    {
     "data": {
      "text/plain": [
       "array([[1.4115e-320],\n",
       "       [7.7771e-320],\n",
       "       [5.3359e-321],\n",
       "       [9.5572e-320],\n",
       "       [2.8547e-320],\n",
       "       [2.8547e-320],\n",
       "       [9.5572e-320],\n",
       "       [5.3359e-321],\n",
       "       [7.7771e-320],\n",
       "       [1.4115e-320]])"
      ]
     },
     "execution_count": 21,
     "metadata": {},
     "output_type": "execute_result"
    }
   ],
   "source": [
    "np.empty([10,1])"
   ]
  },
  {
   "cell_type": "code",
   "execution_count": 22,
   "metadata": {},
   "outputs": [],
   "source": [
    "def sh_exp(N):\n",
    "    experiment_diff_mean = np.empty([N, 1])\n",
    "    for times in np.arange(N):\n",
    "        experiment_label = np.random.randint(0, 2, len(sales_t))\n",
    "        experiment_data = np.array([\n",
    "            experiment_label,\n",
    "            sales_t[:, 1]\n",
    "        ]).T\n",
    "        experiment_diff_mean[times] = experiment_data[experiment_data[:, 0] == 1][:, 1].mean() - experiment_data[experiment_data[:, 0] == 0][:, 1].mean()\n",
    "    return experiment_diff_mean"
   ]
  },
  {
   "cell_type": "code",
   "execution_count": 23,
   "metadata": {},
   "outputs": [],
   "source": [
    "e1 = sh_exp(1000000)"
   ]
  },
  {
   "cell_type": "code",
   "execution_count": 24,
   "metadata": {
    "jupyter": {
     "outputs_hidden": true
    },
    "scrolled": true,
    "tags": []
   },
   "outputs": [],
   "source": [
    "# print(e1)"
   ]
  },
  {
   "cell_type": "code",
   "execution_count": 25,
   "metadata": {},
   "outputs": [
    {
     "data": {
      "text/plain": [
       "64148"
      ]
     },
     "execution_count": 25,
     "metadata": {},
     "output_type": "execute_result"
    }
   ],
   "source": [
    "len(e1[e1 >= d]) #P Value"
   ]
  },
  {
   "cell_type": "code",
   "execution_count": 28,
   "metadata": {},
   "outputs": [
    {
     "data": {
      "text/plain": [
       "6.4148"
      ]
     },
     "execution_count": 28,
     "metadata": {},
     "output_type": "execute_result"
    }
   ],
   "source": [
    "64148 / 1000000 * 100"
   ]
  },
  {
   "cell_type": "code",
   "execution_count": 27,
   "metadata": {},
   "outputs": [
    {
     "name": "stderr",
     "output_type": "stream",
     "text": [
      "C:\\Users\\Aria\\AppData\\Local\\Temp\\ipykernel_21752\\2476525324.py:1: UserWarning: \n",
      "\n",
      "`distplot` is a deprecated function and will be removed in seaborn v0.14.0.\n",
      "\n",
      "Please adapt your code to use either `displot` (a figure-level function with\n",
      "similar flexibility) or `histplot` (an axes-level function for histograms).\n",
      "\n",
      "For a guide to updating your code to use the new functions, please see\n",
      "https://gist.github.com/mwaskom/de44147ed2974457ad6372750bbe5751\n",
      "\n",
      "  sns.distplot(e1, bins=50)\n"
     ]
    },
    {
     "data": {
      "text/plain": [
       "<Axes: ylabel='Density'>"
      ]
     },
     "execution_count": 27,
     "metadata": {},
     "output_type": "execute_result"
    },
    {
     "data": {
      "image/png": "[encoded data removed]",
      "text/plain": [
       "<Figure size 640x480 with 1 Axes>"
      ]
     },
     "metadata": {},
     "output_type": "display_data"
    }
   ],
   "source": [
    "sns.distplot(e1, bins=50)"
   ]
  }
 ],
 "metadata": {
  "kernelspec": {
   "display_name": "base",
   "language": "python",
   "name": "python3"
  },
  "language_info": {
   "codemirror_mode": {
    "name": "ipython",
    "version": 3
   },
   "file_extension": ".py",
   "mimetype": "text/x-python",
   "name": "python",
   "nbconvert_exporter": "python",
   "pygments_lexer": "ipython3",
   "version": "3.13.5"
  }
 },
 "nbformat": 4,
 "nbformat_minor": 4
}
