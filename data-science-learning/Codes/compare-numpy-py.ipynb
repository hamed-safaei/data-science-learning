{
 "cells": [
  {
   "cell_type": "code",
   "execution_count": 41,
   "id": "4a630aab-353b-4319-a57c-f680b328e6b2",
   "metadata": {},
   "outputs": [
    {
     "data": {
      "text/plain": [
       "array([  3,   1, 100,  45,  54, 200,  23,   2,  12, 106])"
      ]
     },
     "execution_count": 41,
     "metadata": {},
     "output_type": "execute_result"
    }
   ],
   "source": [
    "import numpy as np\n",
    "import time \n",
    "x = [ 3 , 1 , 100 , 45 ,54 ,200 , 23 , 2 , 12 ,106]\n",
    "y = np.array(x)\n",
    "y"
   ]
  },
  {
   "cell_type": "code",
   "execution_count": null,
   "id": "6a3a5410-9e71-471a-8788-84adf84acd62",
   "metadata": {},
   "outputs": [],
   "source": [
    "def QuickSort(arr) :\n",
    "\n",
    "      if len(arr) <= 1 :\n",
    "            return arr\n",
    "      median = arr[len(arr)//2]\n",
    "\n",
    "      low  , final , high = [] , [] , []\n",
    "      \n",
    "      narr = np.array(arr)\n",
    "\n",
    "      for x in narr :\n",
    "            if x < median :\n",
    "                  low.append(x)\n",
    "            if x == median :\n",
    "                  final.append(x)\n",
    "            if x > median :\n",
    "                  high.append(x)\n",
    "      return QuickSort(low) + final + QuickSort(high)\n"
   ]
  },
  {
   "cell_type": "code",
   "execution_count": 40,
   "id": "ddb05426-2a45-4f6e-a55f-1b2d1293a5c4",
   "metadata": {},
   "outputs": [
    {
     "data": {
      "text/plain": [
       "[np.int64(1),\n",
       " np.int64(2),\n",
       " np.int64(3),\n",
       " np.int64(12),\n",
       " np.int64(23),\n",
       " np.int64(45),\n",
       " np.int64(54),\n",
       " np.int64(100),\n",
       " np.int64(106),\n",
       " np.int64(200)]"
      ]
     },
     "execution_count": 40,
     "metadata": {},
     "output_type": "execute_result"
    }
   ],
   "source": [
    "QuickSort(x)"
   ]
  },
  {
   "cell_type": "code",
   "execution_count": 30,
   "id": "a3cb7c06-9922-4a0f-bf5c-91d29448c1f3",
   "metadata": {},
   "outputs": [],
   "source": [
    "def quicksort2(arr):\n",
    "    if len(arr) <= 1:\n",
    "        return arr\n",
    "    arr = np.array(arr)\n",
    "    p = arr[len(arr) // 2]\n",
    "    l = [x for x in arr if x  < p]\n",
    "    m = [x for x in arr if x == p]\n",
    "    r = [x for x in arr if x > p]\n",
    "    return quicksort2(l) + m + quicksort2(r)"
   ]
  },
  {
   "cell_type": "code",
   "execution_count": 86,
   "id": "eb76a32d-6f37-4de7-8b3c-b376122688d3",
   "metadata": {},
   "outputs": [
    {
     "data": {
      "text/plain": [
       "[np.int64(1),\n",
       " np.int64(2),\n",
       " np.int64(3),\n",
       " np.int64(12),\n",
       " np.int64(23),\n",
       " np.int64(45),\n",
       " np.int64(54),\n",
       " np.int64(100),\n",
       " np.int64(106),\n",
       " np.int64(200)]"
      ]
     },
     "execution_count": 86,
     "metadata": {},
     "output_type": "execute_result"
    }
   ],
   "source": [
    "quicksort2(x)\n"
   ]
  },
  {
   "cell_type": "code",
   "execution_count": 85,
   "id": "ad5cfde3",
   "metadata": {},
   "outputs": [
    {
     "name": "stdout",
     "output_type": "stream",
     "text": [
      "0.00010418891906738281\n",
      "0.00013375282287597656\n"
     ]
    }
   ],
   "source": [
    "start = time.time()\n",
    "result = QuickSort(x)\n",
    "end = time.time()\n",
    "\n",
    "print(end - start)\n",
    "\n",
    "start2 = time.time()\n",
    "result2 = quicksort_numpy(x)\n",
    "end2 = time.time()\n",
    "\n",
    "print(end2 - start2)\n",
    "\n"
   ]
  },
  {
   "cell_type": "code",
   "execution_count": 75,
   "id": "111e40c9",
   "metadata": {},
   "outputs": [],
   "source": [
    "#full numpy\n",
    "\n",
    "def quicksort_numpy(arr):\n",
    "    arr = np.asarray(arr)  # مطمئن می‌شه که numpy array است\n",
    "    if arr.size <= 1:\n",
    "        return arr\n",
    "    \n",
    "    pivot = arr[arr.size // 2]\n",
    "    \n",
    "    # تقسیم آرایه بدون حلقه، با boolean indexing\n",
    "    low = arr[arr < pivot]\n",
    "    mid = arr[arr == pivot]\n",
    "    high = arr[arr > pivot]\n",
    "    \n",
    "    # بازگشتی\n",
    "    return np.concatenate([quicksort_numpy(low), mid, quicksort_numpy(high)])\n"
   ]
  },
  {
   "cell_type": "code",
   "execution_count": 76,
   "id": "c5254d24",
   "metadata": {},
   "outputs": [
    {
     "data": {
      "text/plain": [
       "array([  1,   2,   3,  12,  23,  45,  54, 100, 106, 200])"
      ]
     },
     "execution_count": 76,
     "metadata": {},
     "output_type": "execute_result"
    }
   ],
   "source": [
    "quicksort_numpy(x)"
   ]
  },
  {
   "cell_type": "code",
   "execution_count": 88,
   "id": "5d6ede6c",
   "metadata": {},
   "outputs": [],
   "source": [
    "def python_version():\n",
    "    t1 = time.time()\n",
    "    X = range(100000000)\n",
    "    Y = range(100000000)\n",
    "    Z = []\n",
    "    for i in range(100000000):\n",
    "        Z.append(X[i] + Y[i])\n",
    "    t2 = time.time()\n",
    "    return t2 - t1"
   ]
  },
  {
   "cell_type": "code",
   "execution_count": 89,
   "id": "d53071ee",
   "metadata": {},
   "outputs": [
    {
     "data": {
      "text/plain": [
       "26.288011074066162"
      ]
     },
     "execution_count": 89,
     "metadata": {},
     "output_type": "execute_result"
    }
   ],
   "source": [
    "python_version()"
   ]
  },
  {
   "cell_type": "code",
   "execution_count": 90,
   "id": "8e055ffa",
   "metadata": {},
   "outputs": [],
   "source": [
    "def numpy_version():\n",
    "    t1 = time.time()\n",
    "    X = np.arange(100000000)\n",
    "    Y = np.arange(100000000)\n",
    "    Z = X + Y\n",
    "    t2 = time.time()\n",
    "    return t2 - t1"
   ]
  },
  {
   "cell_type": "code",
   "execution_count": 91,
   "id": "de90684c",
   "metadata": {},
   "outputs": [
    {
     "data": {
      "text/plain": [
       "0.7121288776397705"
      ]
     },
     "execution_count": 91,
     "metadata": {},
     "output_type": "execute_result"
    }
   ],
   "source": [
    "numpy_version()"
   ]
  },
  {
   "cell_type": "code",
   "execution_count": null,
   "id": "3719da86",
   "metadata": {},
   "outputs": [],
   "source": []
  }
 ],
 "metadata": {
  "kernelspec": {
   "display_name": "base",
   "language": "python",
   "name": "python3"
  },
  "language_info": {
   "codemirror_mode": {
    "name": "ipython",
    "version": 3
   },
   "file_extension": ".py",
   "mimetype": "text/x-python",
   "name": "python",
   "nbconvert_exporter": "python",
   "pygments_lexer": "ipython3",
   "version": "3.13.5"
  }
 },
 "nbformat": 4,
 "nbformat_minor": 5
}
